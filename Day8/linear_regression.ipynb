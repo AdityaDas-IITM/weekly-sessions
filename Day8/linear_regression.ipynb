{
 "cells": [
  {
   "cell_type": "markdown",
   "metadata": {},
   "source": [
    "# Linear Regression\n",
    "## Introduction\n",
    "Linear regression is a method used to find a relationship between a dependent variable and a set of independent variables. In its simplest form it consist of fitting a function y = w.x + b to observed data, where \n",
    "y is the dependent variable, x the independent, w the weight matrix and b the bias.\n",
    "![](images/img1.png)\n",
    "## Loss Function\n",
    "\n",
    "A loss function is a way to map the performance of our model into a real number. It measures how well the model is performing its task, be it a linear regression model fitting the data to a line, a neural network correctly classifying an image of a character, etc. The loss function is particularly important in learning since it is what guides the update of the parameters so that the model can perform better.\n",
    "\n",
    "One such function is the Squared Loss, which measures the average of the squared difference between an estimation and the ground-truth value.\n",
    "\n",
    "\n",
    "The squared loss function can be seen below\n",
    "![](images/img2.png)\n",
    "where,\n",
    "\n",
    "M is the number of training points \n",
    "\n",
    "y is the ground-truth value\n",
    "\n",
    "ŷ is the estimated value\n",
    "\n",
    "Now, let's put linear equation in the above equation for calculating the loss function of linear regression. We will get:\n",
    "![](images/img3.png)\n",
    "Naturally, we want a model with the smallest possible MSE. One common way to do that is using Gradient Descent. Let's see what Gradient Descent is.\n",
    "\n",
    "## Gradient Descent\n",
    "This optimization algorithm is based using gradients to update the model parameters (w and b in our case) until a minimum is found and the gradient becomes zero. Convergence to the global minimum is guaranteed (with some reservations) for convex functions since that’s the only point where the gradient is zero.\n",
    "\n",
    "An animation of the Gradient Descent method is shown below\n",
    "![](images/img4.mov)\n",
    "Now lets see the derivatives of above loss wrt. w and b\n",
    "![](images/img5.png)\n",
    "Remember from calculus that the gradient points in the direction of steepest ascent, but since we want our cost to decrease we invert its symbol, therefore getting below eqs:\n",
    "![](images/img6.png)\n",
    "Where α is called learning rate and relates to much we trust the gradient at a given point, it is usually the case that 0<α<1. Setting the learning rate too high might lead to divergence since it risks overshooting the minimum, refer animation below:\n",
    "![](images/img7.mov)\n",
<<<<<<< HEAD
=======
    "\n",
    "### Batch Gradient Descent\n",
    "Batch gradient descent computes the gradient using the `whole dataset`. This is great for convex, or relatively smooth error manifolds. In this case, we move somewhat directly towards an optimum solution, either local or global. This has been often regarded as slow and unreliable. In past, the applications of gradient descent to nonconvex optimization problems was regarded as foolhardy and unpricipled.\n",
    "\n",
    "The recurring problem in ML is that large training sets are necessary for good generalization, but large training sets are also computationally expensive. Now in this case SGD algorithm may be better able to help us. \n",
    "\n",
    "### Stochastic Gradient descent\n",
    "We can think of one more way of feeding dataset;say instead of feeding large dataset into model; why not feed set of minibatches into learning algorithm. Stochastic gradient descent (SGD) works that way exactly; dataset is divided into several minibatches and we pass each minibatch one by one to our model.\n",
    "\n",
    "Minibatch sizes are generally driven by the following factors:\n",
    "<ol>\n",
    "    <li>Larger batches provide a more accurate estimate of the gradient, but with less than linear returns.</li>\n",
    "    <li>Multicore architectures are usually underutilized by extremely small batches.This motivates using some absolute minimum batch size, below which thereis no reduction in the time to process a minibatch.</li>\n",
    "    <li>If all examples in the batch are to be processed in parallel (as is typicallythe case), then the amount of memory scales with the batch size. For manyhardware setups this is the limiting factor in batch size.</li>\n",
    "    <li>Some kinds of hardware achieve better runtime with speciﬁc sizes of arrays.Especially when using GPUs, it is common for power of 2 batch sizes to oﬀerbetter runtime. Typical power of 2 batch sizes range from 32 to 256, with 16sometimes being attempted for large models.</li>\n",
    "    <li>Small batches can oﬀer a regularizing eﬀect (Wilson and Martinez, 2003),perhaps due to the noise they add to the learning process. Generalization error is often best for a batch size of 1. Training with such a small batchsize might require a small learning rate to maintain stability because of the high variance in the estimate of the gradient. The total runtime can be veryhigh as a result of the need to make more steps, both because of the reduced learning rate and because it takes more steps to observe the entire trainingset\n",
    "\n",
    "### Lets try to implement linear regression using NumPy"
   ]
  },
  {
   "cell_type": "code",
   "execution_count": 3,
   "metadata": {},
   "outputs": [],
   "source": [
    "import numpy as np\n",
    "import pandas as pd\n",
    "import matplotlib.pyplot as plt\n",
    "%matplotlib inline"
   ]
  },
  {
   "cell_type": "code",
   "execution_count": 6,
   "metadata": {},
   "outputs": [
    {
     "data": {
      "text/plain": [
       "((100, 1), (100,))"
      ]
     },
     "execution_count": 6,
     "metadata": {},
     "output_type": "execute_result"
    }
   ],
   "source": [
    "## Lets take some random input and try to build Linear Regression model on it\n",
    "from sklearn.datasets import make_regression\n",
    "X, y, coef = make_regression(n_samples = 100, \n",
    "                       n_features=1, \n",
    "                       noise=20,\n",
    "                       random_state=2017,\n",
    "                       coef=True)\n",
    "X.shape, y.shape"
   ]
  },
  {
   "cell_type": "code",
   "execution_count": 7,
   "metadata": {},
   "outputs": [
    {
     "data": {
      "text/plain": [
       "<matplotlib.collections.PathCollection at 0x1a179b8110>"
      ]
     },
     "execution_count": 7,
     "metadata": {},
     "output_type": "execute_result"
    },
    {
     "data": {
      "image/png": "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\n",
      "text/plain": [
       "<Figure size 432x288 with 1 Axes>"
      ]
     },
     "metadata": {
      "needs_background": "light"
     },
     "output_type": "display_data"
    }
   ],
   "source": [
    "#Lets first try to visulauze how this data looks like\n",
    "plt.scatter(X,y)"
   ]
  },
  {
   "cell_type": "markdown",
   "metadata": {},
   "source": [
    "From above visulaization we can say that some linear equation might work in this case. Lets try to implement it first."
   ]
  },
  {
   "cell_type": "code",
   "execution_count": 7,
   "metadata": {},
   "outputs": [],
   "source": [
    "X= np.concatenate([np.ones(len(X)).reshape(-1,1), X.reshape(-1,1)], axis= 1)\n",
    "y= y.reshape(1,-1)\n",
    "w= (np.random.randn(2).reshape(1,2))"
   ]
  },
  {
   "cell_type": "markdown",
   "metadata": {},
   "source": [
    "Guess why we are concatenating x to a vector of ones?? Just try to think about it and you will surely get it.\n",
>>>>>>> 0e00dc6c2462a1c2a5470d493dc4f062b95a8a18
    "\n",
    "### Batch Gradient Descent\n",
    "Batch gradient descent computes the gradient using the `whole dataset`. This is great for convex, or relatively smooth error manifolds. In this case, we move somewhat directly towards an optimum solution, either local or global. This has been often regarded as slow and unreliable. In past, the applications of gradient descent to nonconvex optimization problems was regarded as foolhardy and unpricipled.\n",
    "\n",
    "The recurring problem in ML is that large training sets are necessary for good generalization, but large training sets are also computationally expensive. Now in this case SGD algorithm may be better able to help us. \n",
    "\n",
<<<<<<< HEAD
    "### Stochastic Gradient descent\n",
    "We can think of one more way of feeding dataset;say instead of feeding large dataset into model; why not feed set of minibatches into learning algorithm. Stochastic gradient descent (SGD) works that way exactly; dataset is divided into several minibatches and we pass each minibatch one by one to our model.\n",
    "\n",
    "Minibatch sizes are generally driven by the following factors:\n",
    "<ol>\n",
    "    <li>Larger batches provide a more accurate estimate of the gradient, but with less than linear returns.</li>\n",
    "    <li>Multicore architectures are usually underutilized by extremely small batches.This motivates using some absolute minimum batch size, below which thereis no reduction in the time to process a minibatch.</li>\n",
    "    <li>If all examples in the batch are to be processed in parallel (as is typicallythe case), then the amount of memory scales with the batch size. For manyhardware setups this is the limiting factor in batch size.</li>\n",
    "    <li>Some kinds of hardware achieve better runtime with speciﬁc sizes of arrays.Especially when using GPUs, it is common for power of 2 batch sizes to oﬀerbetter runtime. Typical power of 2 batch sizes range from 32 to 256, with 16sometimes being attempted for large models.</li>\n",
    "    <li>Small batches can oﬀer a regularizing eﬀect (Wilson and Martinez, 2003),perhaps due to the noise they add to the learning process. Generalization error is often best for a batch size of 1. Training with such a small batchsize might require a small learning rate to maintain stability because of the high variance in the estimate of the gradient. The total runtime can be veryhigh as a result of the need to make more steps, both because of the reduced learning rate and because it takes more steps to observe the entire trainingset"
=======
    "Now `y=a+bx` can be written as **y**=**w.X<sup>T</sup>**"
   ]
  },
  {
   "cell_type": "code",
   "execution_count": 33,
   "metadata": {},
   "outputs": [],
   "source": [
    "alpha= 1e-3 ## learning rate\n",
    "iterations= 1000 ## no of times we want to train the model\n",
    "\n",
    "## lets train our model\n",
    "for i in range(iterations):\n",
    "    y_pred= np.dot(w, X.T)\n",
    "    m= X.shape[0]\n",
    "    l1_err= y-y_pred\n",
    "    grad= -(2/m)*np.dot(l1_err, X)\n",
    "    w = w - alpha*grad"
   ]
  },
  {
   "cell_type": "code",
   "execution_count": 34,
   "metadata": {},
   "outputs": [
    {
     "data": {
      "text/plain": [
       "array([[-3.89973892, 79.52930063]])"
      ]
     },
     "execution_count": 34,
     "metadata": {},
     "output_type": "execute_result"
    }
   ],
   "source": [
    "# Lets see the value of parameter w\n",
    "w"
   ]
  },
  {
   "cell_type": "code",
   "execution_count": 35,
   "metadata": {},
   "outputs": [
    {
     "data": {
      "text/plain": [
       "396.13199785306375"
      ]
     },
     "execution_count": 35,
     "metadata": {},
     "output_type": "execute_result"
    }
   ],
   "source": [
    "# lets see the value of root mean square error\n",
    "y_pred= np.dot(w.reshape(1,-1), X.T)\n",
    "rmse= np.mean(np.square(y - y_pred))\n",
    "rmse"
   ]
  },
  {
   "cell_type": "code",
   "execution_count": 36,
   "metadata": {
    "scrolled": true
   },
   "outputs": [
    {
     "data": {
      "text/plain": [
       "array([[  -1.33464642,  -38.66776748,  -15.06549307,  -26.91764282,\n",
       "        -117.665604  ,  -72.38166815,  -80.1747179 ,  -45.91048496,\n",
       "         -18.22120537,  140.75991423, -123.31892375,   81.61338198,\n",
       "         -46.65236755,  -30.66512171,  -59.04009441,   10.90306666,\n",
       "         -31.96237351,  -51.27800505,  -79.67910672,  105.22580055,\n",
       "         -83.54682069,   43.34511849,  154.27847629,  -71.31260607,\n",
       "          13.02170674,  -72.57515449,  -39.34965119,  -90.32388969,\n",
       "          66.5462323 ,  -35.28023983,  -64.18958657,   13.15559161,\n",
       "         -76.88606264,   90.09763245, -102.08407407,  116.21234645,\n",
       "          25.45309527,    2.30414998,   69.92566071,   68.61528462,\n",
       "          36.29551106,   27.49537735, -115.8192894 ,  102.41708721,\n",
       "          19.09567943,    4.67702777,  -42.55956906,  -84.55232175,\n",
       "         -82.6803855 ,  -68.89605631,   91.16435258,  106.91203773,\n",
       "         -47.88542808,  100.42818319,  -20.50165665,   -1.81993834,\n",
       "          -1.40795489,  -72.17212386,  -11.52862972,   41.70840445,\n",
       "          66.37368221,  -25.75532333,  -75.15048352,  -85.25386224,\n",
       "         110.98400748,   55.16515981,  -47.89960586,   33.18556448,\n",
       "          60.7205481 ,  -34.39293407,   87.37910826,   11.93393026,\n",
       "         -11.72842288,  -35.14285882,   91.78993867, -128.2730578 ,\n",
       "         -61.53207852,  -71.3890332 ,  -21.40248997,  -62.20453746,\n",
       "         -39.22040076,   94.10690966,  -42.27534182,   49.94606745,\n",
       "          67.3385402 ,   -4.79405664,  -45.27573214, -179.07763105,\n",
       "          91.63864748,  -63.03656839,  -60.3292279 ,  -19.75278413,\n",
       "         -90.53340625,   58.75334553,    7.91138095,  -51.11651478,\n",
       "          31.47660107,  188.59168279,   49.72090301,   -2.16263303]])"
      ]
     },
     "execution_count": 36,
     "metadata": {},
     "output_type": "execute_result"
    }
   ],
   "source": [
    "## lets see value of y estimated by our model\n",
    "y_pred"
   ]
  },
  {
   "cell_type": "code",
   "execution_count": 39,
   "metadata": {},
   "outputs": [
    {
     "data": {
      "image/png": "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\n",
      "text/plain": [
       "<Figure size 432x288 with 1 Axes>"
      ]
     },
     "metadata": {
      "needs_background": "light"
     },
     "output_type": "display_data"
    }
   ],
   "source": [
    "## lets try to visualize the results\n",
    "plt.scatter(X[:, 1:], y, color= 'r')\n",
    "plt.plot(X[:, 1:], np.squeeze(y_pred))\n",
    "plt.xlabel('x')\n",
    "plt.ylabel('y')\n",
    "plt.legend(['real values', 'predicted values'])\n",
    "plt.show()"
   ]
  },
  {
   "cell_type": "markdown",
   "metadata": {},
   "source": [
    "## Multiple Linear Regression\n",
    "Now instead of having single features, we will be having multiple features and all these features will contribute for predicting variable of y\n",
    "\n",
    "Now the linear equation will become\n",
    "\n",
    "y = b + w<sub>1</sub>.x<sub>1</sub> + w<sub>2</sub>.x<sub>2</sub> + ......................... w<sub>n</sub>.x<sub>n</sub>\n",
    "\n",
    "Writing it in vector form\n",
    "\n",
    "y = **y**=**w.X<sup>T</sup>**\n",
    "\n",
    "where w is feature vector\n",
    "and X is the matrix after appending ones into it"
   ]
  },
  {
   "cell_type": "code",
   "execution_count": 11,
   "metadata": {},
   "outputs": [
    {
     "data": {
      "text/html": [
       "<div>\n",
       "<style scoped>\n",
       "    .dataframe tbody tr th:only-of-type {\n",
       "        vertical-align: middle;\n",
       "    }\n",
       "\n",
       "    .dataframe tbody tr th {\n",
       "        vertical-align: top;\n",
       "    }\n",
       "\n",
       "    .dataframe thead th {\n",
       "        text-align: right;\n",
       "    }\n",
       "</style>\n",
       "<table border=\"1\" class=\"dataframe\">\n",
       "  <thead>\n",
       "    <tr style=\"text-align: right;\">\n",
       "      <th></th>\n",
       "      <th>feature1</th>\n",
       "      <th>feature2</th>\n",
       "      <th>feature3</th>\n",
       "      <th>feature4</th>\n",
       "      <th>y</th>\n",
       "    </tr>\n",
       "  </thead>\n",
       "  <tbody>\n",
       "    <tr>\n",
       "      <td>0</td>\n",
       "      <td>6.697568</td>\n",
       "      <td>5.358884</td>\n",
       "      <td>6.079641</td>\n",
       "      <td>6.005001</td>\n",
       "      <td>3.750561</td>\n",
       "    </tr>\n",
       "    <tr>\n",
       "      <td>1</td>\n",
       "      <td>18.937950</td>\n",
       "      <td>21.079310</td>\n",
       "      <td>21.378936</td>\n",
       "      <td>21.347908</td>\n",
       "      <td>7.212618</td>\n",
       "    </tr>\n",
       "    <tr>\n",
       "      <td>2</td>\n",
       "      <td>0.461901</td>\n",
       "      <td>0.758917</td>\n",
       "      <td>2.486963</td>\n",
       "      <td>2.308012</td>\n",
       "      <td>1.442524</td>\n",
       "    </tr>\n",
       "    <tr>\n",
       "      <td>3</td>\n",
       "      <td>5.080914</td>\n",
       "      <td>3.221526</td>\n",
       "      <td>5.206520</td>\n",
       "      <td>5.000960</td>\n",
       "      <td>1.442524</td>\n",
       "    </tr>\n",
       "    <tr>\n",
       "      <td>4</td>\n",
       "      <td>6.235667</td>\n",
       "      <td>7.867957</td>\n",
       "      <td>4.855840</td>\n",
       "      <td>5.167766</td>\n",
       "      <td>2.019533</td>\n",
       "    </tr>\n",
       "  </tbody>\n",
       "</table>\n",
       "</div>"
      ],
      "text/plain": [
       "    feature1   feature2   feature3   feature4         y\n",
       "0   6.697568   5.358884   6.079641   6.005001  3.750561\n",
       "1  18.937950  21.079310  21.378936  21.347908  7.212618\n",
       "2   0.461901   0.758917   2.486963   2.308012  1.442524\n",
       "3   5.080914   3.221526   5.206520   5.000960  1.442524\n",
       "4   6.235667   7.867957   4.855840   5.167766  2.019533"
      ]
     },
     "execution_count": 11,
     "metadata": {},
     "output_type": "execute_result"
    }
   ],
   "source": [
    "data= pd.read_csv('data.csv')\n",
    "data.head()"
   ]
  },
  {
   "cell_type": "code",
   "execution_count": 12,
   "metadata": {},
   "outputs": [
    {
     "data": {
      "text/plain": [
       "((241978, 4), (241978,))"
      ]
     },
     "execution_count": 12,
     "metadata": {},
     "output_type": "execute_result"
    }
   ],
   "source": [
    "X= data[['feature1', 'feature2', 'feature3', 'feature4']].values\n",
    "y= data['y'].values\n",
    "X.shape, y.shape"
   ]
  },
  {
   "cell_type": "code",
   "execution_count": 60,
   "metadata": {},
   "outputs": [],
   "source": [
    "X= np.concatenate([np.ones(X.shape[0]).reshape(-1,1), X], axis= 1)\n",
    "y= y.reshape(1,-1)\n",
    "w= (np.random.randn(X.shape[1]).reshape(1,-1))"
   ]
  },
  {
   "cell_type": "code",
   "execution_count": 61,
   "metadata": {},
   "outputs": [
    {
     "data": {
      "text/plain": [
       "((241978, 5), (1, 241978), (1, 5))"
      ]
     },
     "execution_count": 61,
     "metadata": {},
     "output_type": "execute_result"
    }
   ],
   "source": [
    "X.shape, y.shape, w.shape"
   ]
  },
  {
   "cell_type": "code",
   "execution_count": 62,
   "metadata": {},
   "outputs": [],
   "source": [
    "alpha= 1e-4 ## learning rate\n",
    "iterations= 1000 ## no of times we want to train the model\n",
    "\n",
    "## lets train our model\n",
    "for i in range(iterations):\n",
    "    y_pred= np.dot(w, X.T)\n",
    "    m= X.shape[0]\n",
    "    l1_err= y-y_pred\n",
    "    grad= -(2/m)*np.dot(l1_err, X)\n",
    "    w = w - alpha*grad"
   ]
  },
  {
   "cell_type": "code",
   "execution_count": 64,
   "metadata": {},
   "outputs": [
    {
     "data": {
      "text/plain": [
       "array([[0.20842239, 0.07145183, 0.27638766, 0.02705366, 0.30412382]])"
      ]
     },
     "execution_count": 64,
     "metadata": {},
     "output_type": "execute_result"
    }
   ],
   "source": [
    "w"
   ]
  },
  {
   "cell_type": "code",
   "execution_count": 65,
   "metadata": {},
   "outputs": [
    {
     "data": {
      "text/plain": [
       "4.56469991129893"
      ]
     },
     "execution_count": 65,
     "metadata": {},
     "output_type": "execute_result"
    }
   ],
   "source": [
    "# lets see the value of root mean square error\n",
    "y_pred= np.dot(w.reshape(1,-1), X.T)\n",
    "rmse= np.mean(np.square(y - y_pred))\n",
    "rmse"
   ]
  },
  {
   "cell_type": "code",
   "execution_count": 66,
   "metadata": {},
   "outputs": [
    {
     "data": {
      "text/plain": [
       "array([[ 4.15884584, 14.45842079,  1.22038429, ...,  0.39865649,\n",
       "         0.46437887,  0.25412864]])"
      ]
     },
     "execution_count": 66,
     "metadata": {},
     "output_type": "execute_result"
    }
   ],
   "source": [
    "y_pred"
>>>>>>> 0e00dc6c2462a1c2a5470d493dc4f062b95a8a18
   ]
  },
  {
   "cell_type": "code",
   "execution_count": null,
   "metadata": {},
   "outputs": [],
   "source": []
  }
 ],
 "metadata": {
  "kernelspec": {
   "display_name": "Python 3",
   "language": "python",
   "name": "python3"
  },
  "language_info": {
   "codemirror_mode": {
    "name": "ipython",
    "version": 3
   },
   "file_extension": ".py",
   "mimetype": "text/x-python",
   "name": "python",
   "nbconvert_exporter": "python",
   "pygments_lexer": "ipython3",
   "version": "3.7.4"
  }
 },
 "nbformat": 4,
 "nbformat_minor": 2
}
