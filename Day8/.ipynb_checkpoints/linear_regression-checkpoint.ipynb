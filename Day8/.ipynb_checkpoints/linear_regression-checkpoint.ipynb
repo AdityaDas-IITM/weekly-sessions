{
 "cells": [
  {
   "cell_type": "markdown",
   "metadata": {},
   "source": [
    "# Linear Regression\n",
    "## Introduction\n",
    "Linear regression is a method used to find a relationship between a dependent variable and a set of independent variables. In its simplest form it consist of fitting a function y = w.x + b to observed data, where \n",
    "y is the dependent variable, x the independent, w the weight matrix and b the bias.\n",
    "![](images/img1.png)\n",
    "## Loss Function\n",
    "\n",
    "A loss function is a way to map the performance of our model into a real number. It measures how well the model is performing its task, be it a linear regression model fitting the data to a line, a neural network correctly classifying an image of a character, etc. The loss function is particularly important in learning since it is what guides the update of the parameters so that the model can perform better.\n",
    "\n",
    "One such function is the Squared Loss, which measures the average of the squared difference between an estimation and the ground-truth value.\n",
    "\n",
    "\n",
    "The squared loss function can be seen below\n",
    "![](images/img2.png)\n",
    "where,\n",
    "\n",
    "M is the number of training points \n",
    "\n",
    "y is the ground-truth value\n",
    "\n",
    "ŷ is the estimated value\n",
    "\n",
    "Now, let's put linear equation in the above equation for calculating the loss function of linear regression. We will get:\n",
    "![](images/img3.png)\n",
    "Naturally, we want a model with the smallest possible MSE. One common way to do that is using Gradient Descent. Let's see what Gradient Descent is.\n",
    "\n",
    "## Gradient Descent\n",
    "This optimization algorithm is based using gradients to update the model parameters (w and b in our case) until a minimum is found and the gradient becomes zero. Convergence to the global minimum is guaranteed (with some reservations) for convex functions since that’s the only point where the gradient is zero.\n",
    "\n",
    "An animation of the Gradient Descent method is shown below\n",
    "![](images/img4.mov)\n",
    "Now lets see the derivatives of above loss wrt. w and b\n",
    "![](images/img5.png)\n",
    "Remember from calculus that the gradient points in the direction of steepest ascent, but since we want our cost to decrease we invert its symbol, therefore getting below eqs:\n",
    "![](images/img6.png)\n",
    "Where α is called learning rate and relates to much we trust the gradient at a given point, it is usually the case that 0<α<1. Setting the learning rate too high might lead to divergence since it risks overshooting the minimum, refer animation below:\n",
    "![](images/img7.mov)\n",
    "## Lets try to implement linear regression using NumPy"
   ]
  },
  {
   "cell_type": "code",
   "execution_count": 1,
   "metadata": {},
   "outputs": [],
   "source": [
    "import numpy as np\n",
    "import pandas as pd\n",
    "import matplotlib.pyplot as plt\n",
    "%matplotlib inline"
   ]
  },
  {
   "cell_type": "code",
   "execution_count": 2,
   "metadata": {},
   "outputs": [
    {
     "data": {
      "text/html": [
       "<div>\n",
       "<style scoped>\n",
       "    .dataframe tbody tr th:only-of-type {\n",
       "        vertical-align: middle;\n",
       "    }\n",
       "\n",
       "    .dataframe tbody tr th {\n",
       "        vertical-align: top;\n",
       "    }\n",
       "\n",
       "    .dataframe thead th {\n",
       "        text-align: right;\n",
       "    }\n",
       "</style>\n",
       "<table border=\"1\" class=\"dataframe\">\n",
       "  <thead>\n",
       "    <tr style=\"text-align: right;\">\n",
       "      <th></th>\n",
       "      <th>price</th>\n",
       "      <th>sqft_above</th>\n",
       "    </tr>\n",
       "  </thead>\n",
       "  <tbody>\n",
       "    <tr>\n",
       "      <td>0</td>\n",
       "      <td>0.028818</td>\n",
       "      <td>0.125399</td>\n",
       "    </tr>\n",
       "    <tr>\n",
       "      <td>1</td>\n",
       "      <td>0.069870</td>\n",
       "      <td>0.230606</td>\n",
       "    </tr>\n",
       "    <tr>\n",
       "      <td>2</td>\n",
       "      <td>0.023377</td>\n",
       "      <td>0.081828</td>\n",
       "    </tr>\n",
       "    <tr>\n",
       "      <td>3</td>\n",
       "      <td>0.078442</td>\n",
       "      <td>0.111583</td>\n",
       "    </tr>\n",
       "    <tr>\n",
       "      <td>4</td>\n",
       "      <td>0.066234</td>\n",
       "      <td>0.178533</td>\n",
       "    </tr>\n",
       "  </tbody>\n",
       "</table>\n",
       "</div>"
      ],
      "text/plain": [
       "      price  sqft_above\n",
       "0  0.028818    0.125399\n",
       "1  0.069870    0.230606\n",
       "2  0.023377    0.081828\n",
       "3  0.078442    0.111583\n",
       "4  0.066234    0.178533"
      ]
     },
     "execution_count": 2,
     "metadata": {},
     "output_type": "execute_result"
    }
   ],
   "source": [
    "data= pd.read_csv('images/data.csv')\n",
    "data.head()"
   ]
  },
  {
   "cell_type": "code",
   "execution_count": 3,
   "metadata": {},
   "outputs": [
    {
     "data": {
      "text/plain": [
       "((21597,), (21597,))"
      ]
     },
     "execution_count": 3,
     "metadata": {},
     "output_type": "execute_result"
    }
   ],
   "source": [
    "## Lets take some random input and try to build Linear Regression model on it\n",
    "x= data['sqft_above'].values\n",
    "y= data['price'].values\n",
    "x.shape, y.shape"
   ]
  },
  {
   "cell_type": "code",
   "execution_count": 4,
   "metadata": {},
   "outputs": [],
   "source": [
    "X= np.concatenate([np.ones(len(x)).reshape(-1,1), x.reshape(-1,1)], axis= 1)\n",
    "y= y.reshape(1,-1)\n",
    "w= (np.random.randn(2).reshape(1,2))"
   ]
  },
  {
   "cell_type": "markdown",
   "metadata": {},
   "source": [
    "Guess why we are concatenating x to a vector of ones?? Just try to think about it and you will surely get it.\n",
    "\n",
    "The reason is that by this way we can train both of our variables b,a in linear eqn y=b+ax using a single vector only.\n",
    "\n",
    "In our code, `b= w[0]` and `a= w[1]`\n",
    "\n",
    "Now `y=a+bx` can be written as **y**=**w.X<sup>T</sup>**"
   ]
  },
  {
   "cell_type": "code",
   "execution_count": 5,
   "metadata": {},
   "outputs": [],
   "source": [
    "## lets define a function which will calculate gradient of loss fn for us\n",
    "def gradient(w, X, y):\n",
    "    y_pred= np.dot(w.reshape(1,-1), X.T)\n",
    "    m= x.shape[0]\n",
    "    l1_err= y-y_pred\n",
    "    grad= -(2/m)*np.dot(l1_err, X)\n",
    "    return grad, abs(l1_err)"
   ]
  },
  {
   "cell_type": "code",
   "execution_count": 6,
   "metadata": {},
   "outputs": [],
   "source": [
    "alpha= 1e-3 ## learning rate\n",
    "iterations= 10 ## no of times we want to train the model\n",
    "\n",
    "## lets train our model\n",
    "for i in range(iterations):\n",
    "    grad, abs_err= gradient(w, X, y)\n",
    "    w = w - alpha*grad"
   ]
  },
  {
   "cell_type": "code",
   "execution_count": 7,
   "metadata": {},
   "outputs": [
    {
     "data": {
      "text/plain": [
       "array([[-0.3335224 , -0.71405668]])"
      ]
     },
     "execution_count": 7,
     "metadata": {},
     "output_type": "execute_result"
    }
   ],
   "source": [
    "# Lets see the value of parameter w\n",
    "w"
   ]
  },
  {
   "cell_type": "code",
   "execution_count": 8,
   "metadata": {},
   "outputs": [
    {
     "data": {
      "text/plain": [
       "0.3008175043436017"
      ]
     },
     "execution_count": 8,
     "metadata": {},
     "output_type": "execute_result"
    }
   ],
   "source": [
    "# lets see the value of root mean square error\n",
    "y_pred= np.dot(w.reshape(1,-1), X.T)\n",
    "rmse= np.mean(np.square(y - y_pred))\n",
    "rmse"
   ]
  },
  {
   "cell_type": "code",
   "execution_count": 9,
   "metadata": {
    "scrolled": true
   },
   "outputs": [
    {
     "data": {
      "text/plain": [
       "array([[-0.42306405, -0.49818797, -0.39195212, ..., -0.41092281,\n",
       "        -0.4549348 , -0.41092281]])"
      ]
     },
     "execution_count": 9,
     "metadata": {},
     "output_type": "execute_result"
    }
   ],
   "source": [
    "## lets see value of y estimated by our model\n",
    "y_pred"
   ]
  },
  {
   "cell_type": "code",
   "execution_count": 10,
   "metadata": {},
   "outputs": [
    {
     "data": {
      "text/plain": [
       "((21597,), (1, 21597), (1, 21597))"
      ]
     },
     "execution_count": 10,
     "metadata": {},
     "output_type": "execute_result"
    }
   ],
   "source": [
    "x.shape, y.shape, y_pred.shape"
   ]
  },
  {
   "cell_type": "code",
   "execution_count": 11,
   "metadata": {},
   "outputs": [
    {
     "data": {
      "image/png": "[encoded data removed]",
      "text/plain": [
       "<Figure size 432x288 with 1 Axes>"
      ]
     },
     "metadata": {
      "needs_background": "light"
     },
     "output_type": "display_data"
    }
   ],
   "source": [
    "## lets try to visualize the results\n",
    "plt.scatter(x.reshape(1,-1), y)\n",
    "plt.plot(x,np.squeeze(y_pred), color= 'r')\n",
    "plt.xlabel('x')\n",
    "plt.ylabel('y')\n",
    "plt.legend(['real values', 'predicted values'])\n",
    "plt.show()"
   ]
  },
  {
   "cell_type": "markdown",
   "metadata": {},
   "source": [
    "We can simply say from above visulaization that above model is not that good. The reason may that we may not capture the data distribution using linear model provided above data. We will discuss more better algorithms in next session.\n",
    "## Summary\n",
    "### Steps to perform for batch gradient descent algorithm\n",
    "untill stopping criteria: <ol><li>Evaluate gradients</li><li>Update parameters by using above eqn</li></ol>"
   ]
  },
  {
   "cell_type": "code",
   "execution_count": null,
   "metadata": {},
   "outputs": [],
   "source": []
  }
 ],
 "metadata": {
  "kernelspec": {
   "display_name": "Python 3",
   "language": "python",
   "name": "python3"
  },
  "language_info": {
   "codemirror_mode": {
    "name": "ipython",
    "version": 3
   },
   "file_extension": ".py",
   "mimetype": "text/x-python",
   "name": "python",
   "nbconvert_exporter": "python",
   "pygments_lexer": "ipython3",
   "version": "3.7.4"
  }
 },
 "nbformat": 4,
 "nbformat_minor": 2
}
